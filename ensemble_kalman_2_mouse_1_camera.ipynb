{
 "cells": [
  {
   "cell_type": "markdown",
   "metadata": {},
   "source": [
    "## Export diagnostic videos"
   ]
  },
  {
   "cell_type": "code",
   "execution_count": 31,
   "metadata": {},
   "outputs": [
    {
     "ename": "ModuleNotFoundError",
     "evalue": "No module named 'diagnostics.video'",
     "output_type": "error",
     "traceback": [
      "\u001b[0;31m---------------------------------------------------------------------------\u001b[0m",
      "\u001b[0;31mModuleNotFoundError\u001b[0m                       Traceback (most recent call last)",
      "\u001b[0;32m/var/folders/r4/_v5hj9j14b53twvkrltmh9vh0000gn/T/ipykernel_28988/3890985812.py\u001b[0m in \u001b[0;36m<module>\u001b[0;34m\u001b[0m\n\u001b[1;32m     13\u001b[0m \u001b[0;32mimport\u001b[0m \u001b[0mcv2\u001b[0m\u001b[0;34m\u001b[0m\u001b[0;34m\u001b[0m\u001b[0m\n\u001b[1;32m     14\u001b[0m \u001b[0;32mfrom\u001b[0m \u001b[0mmatplotlib\u001b[0m\u001b[0;34m.\u001b[0m\u001b[0mgridspec\u001b[0m \u001b[0;32mimport\u001b[0m \u001b[0mGridSpec\u001b[0m\u001b[0;34m\u001b[0m\u001b[0;34m\u001b[0m\u001b[0m\n\u001b[0;32m---> 15\u001b[0;31m \u001b[0;32mfrom\u001b[0m \u001b[0mdiagnostics\u001b[0m\u001b[0;34m.\u001b[0m\u001b[0mvideo\u001b[0m \u001b[0;32mimport\u001b[0m \u001b[0mget_frames_from_idxs\u001b[0m\u001b[0;34m,\u001b[0m \u001b[0msave_video\u001b[0m\u001b[0;34m\u001b[0m\u001b[0;34m\u001b[0m\u001b[0m\n\u001b[0m\u001b[1;32m     16\u001b[0m \u001b[0;32mimport\u001b[0m \u001b[0mmatplotlib\u001b[0m\u001b[0;34m.\u001b[0m\u001b[0mpatches\u001b[0m \u001b[0;32mas\u001b[0m \u001b[0mmpatches\u001b[0m\u001b[0;34m\u001b[0m\u001b[0;34m\u001b[0m\u001b[0m\n\u001b[1;32m     17\u001b[0m \u001b[0;32mimport\u001b[0m \u001b[0mmatplotlib\u001b[0m\u001b[0;34m.\u001b[0m\u001b[0mpyplot\u001b[0m \u001b[0;32mas\u001b[0m \u001b[0mplt\u001b[0m\u001b[0;34m\u001b[0m\u001b[0;34m\u001b[0m\u001b[0m\n",
      "\u001b[0;31mModuleNotFoundError\u001b[0m: No module named 'diagnostics.video'"
     ]
    }
   ],
   "source": [
    "import glob\n",
    "import matplotlib.pyplot as plt\n",
    "import numpy as np\n",
    "from omegaconf import DictConfig, OmegaConf\n",
    "import os\n",
    "import seaborn as sns\n",
    "import pandas as pd\n",
    "from tqdm import tqdm\n",
    "import scipy\n",
    "# from brainbox.behavior.dlc import get_smooth_pupil_diameter, get_pupil_diameter\n",
    "import scipy\n",
    "from eks.ensemble_kalman import filtering_pass, smooth_backward\n",
    "import cv2\n",
    "from matplotlib.gridspec import GridSpec\n",
    "from diagnostics.video import get_frames_from_idxs, save_video\n",
    "import matplotlib.patches as mpatches\n",
    "import matplotlib.pyplot as plt\n",
    "from collections import defaultdict"
   ]
  },
  {
   "cell_type": "code",
   "execution_count": null,
   "metadata": {},
   "outputs": [],
   "source": []
  },
  {
   "cell_type": "code",
   "execution_count": 15,
   "metadata": {
    "tags": []
   },
   "outputs": [],
   "source": [
    "import openpyxl\n",
    "\n",
    "def extract_numbers_from_xlsx(file_path, column_index):\n",
    "    numbers = []\n",
    "    workbook = openpyxl.load_workbook(file_path)\n",
    "\n",
    "    for sheet_name in workbook.sheetnames:\n",
    "        sheet = workbook[sheet_name]\n",
    "\n",
    "        for row in sheet.iter_rows():\n",
    "            cell = row[column_index]\n",
    "            if cell.value is not None and isinstance(cell.value, (int, float)):\n",
    "                numbers.append(cell.value)\n",
    "\n",
    "    return numbers\n",
    "\n",
    "#file_path = \"/media/cat/cole/frames_2_mouse.xlsx\"\n",
    "#starts = extract_numbers_from_xlsx(file_path, 0)\n",
    "#ends =  extract_numbers_from_xlsx(file_path, 1)\n",
    "#video_ranges = zip(starts, ends)\n",
    "#video_range_list = []\n",
    "#for video_range in list(video_ranges):\n",
    "#    video_range_list.append(np.asarray(video_range) - 1)\n",
    "#video_range_list = np.asarray(video_range_list)"
   ]
  },
  {
   "cell_type": "code",
   "execution_count": 20,
   "metadata": {
    "tags": []
   },
   "outputs": [],
   "source": [
    "#(n_frames, n_animals, n_markers, 2)\n",
    "base_path_markers = '/Users/clairehe/Downloads/wu-mouse/'\n",
    "\n",
    "keys_all = ['0_x', '0_y', '1_x', '1_y', '2_x', '2_y']\n",
    "key_pairs_all = [['0_x', '0_y'], ['1_x', '1_y'], ['2_x', '2_y']]\n",
    "\n",
    "max_ensemble_vars = []\n",
    "#for video_id, video_range in enumerate(video_range_list):\n",
    "    #choose animal\n",
    "animal_id = 0\n",
    "markers_list = []\n",
    "for i in range(5):\n",
    "    marker_path = os.path.join(base_path_markers, f'predictions_{i}.npy')\n",
    "    markers_animal_orig = np.load(marker_path)[:,animal_id]\n",
    "    markers_animal_orig = markers_animal_orig.reshape(markers_animal_orig.shape[0], -1) \n",
    "    markers_animal = markers_animal_orig.copy() \n",
    "    for i in range(markers_animal.shape[1]):\n",
    "        nan_indices = np.isnan(markers_animal[:,i])\n",
    "        indices = np.arange(len(markers_animal[:,i]))\n",
    "        # Interpolate over NaN values\n",
    "        markers_animal[:,i][nan_indices] = np.interp(indices[nan_indices], indices[~nan_indices], markers_animal[:,i][~nan_indices])\n",
    "    df_markers_animal = pd.DataFrame(markers_animal, columns=keys_all)\n",
    "    markers_list.append(df_markers_animal)\n",
    "\n",
    "ensemble_max_list = []\n",
    "for key_pair in key_pairs_all:\n",
    "    keys = key_pair\n",
    "\n",
    "    ensemble_stacks = []\n",
    "    ensemble_vars = []\n",
    "    ensemble_preds = []\n",
    "    keypoints_mean_dict = {}\n",
    "    keypoints_var_dict = {}\n",
    "    keypoints_stack_dict = defaultdict(dict)\n",
    "    for key in keys:\n",
    "        stack = np.zeros((len(markers_list), markers_list[0].shape[0]))\n",
    "        for k in range(len(markers_list)):\n",
    "            stack[k] = markers_list[k][key]\n",
    "        stack = stack.T\n",
    "        median = np.median(stack, 1)\n",
    "        var = np.var(stack, 1) / len(markers_list)\n",
    "        ensemble_preds.append(median)\n",
    "        ensemble_vars.append(var)\n",
    "        ensemble_stacks.append(stack)\n",
    "        keypoints_mean_dict[key] = median\n",
    "        keypoints_var_dict[key] = var\n",
    "        for i, keypoints in enumerate(stack.T):\n",
    "            keypoints_stack_dict[i][key] = stack.T[i]\n",
    "    ensemble_preds = np.asarray(ensemble_preds).T\n",
    "    ensemble_vars = np.asarray(ensemble_vars).T\n",
    "    ensemble_max_list.append(np.max(ensemble_vars))\n",
    "max_ensemble_vars.append(np.max(ensemble_max_list))\n",
    "max_ensemble_vars = np.asarray(max_ensemble_vars)"
   ]
  },
  {
   "cell_type": "code",
   "execution_count": 21,
   "metadata": {
    "tags": []
   },
   "outputs": [],
   "source": [
    "np.savetxt('ensemble_var_order.txt', np.argsort(-max_ensemble_vars), fmt='%d')"
   ]
  },
  {
   "cell_type": "code",
   "execution_count": 22,
   "metadata": {
    "tags": []
   },
   "outputs": [
    {
     "data": {
      "text/plain": [
       "array([0])"
      ]
     },
     "execution_count": 22,
     "metadata": {},
     "output_type": "execute_result"
    }
   ],
   "source": [
    "np.argsort(-max_ensemble_vars)[:10]"
   ]
  },
  {
   "cell_type": "code",
   "execution_count": 30,
   "metadata": {
    "scrolled": true,
    "tags": []
   },
   "outputs": [
    {
     "name": "stdout",
     "output_type": "stream",
     "text": [
      "/Users/clairehe/Downloads/wu-mouse/raw_vid.mp4\n"
     ]
    },
    {
     "name": "stderr",
     "output_type": "stream",
     "text": [
      "0it [00:00, ?it/s]\n"
     ]
    },
    {
     "ename": "NameError",
     "evalue": "name 'get_frames_from_idxs' is not defined",
     "output_type": "error",
     "traceback": [
      "\u001b[0;31m---------------------------------------------------------------------------\u001b[0m",
      "\u001b[0;31mNameError\u001b[0m                                 Traceback (most recent call last)",
      "\u001b[0;32m/var/folders/r4/_v5hj9j14b53twvkrltmh9vh0000gn/T/ipykernel_28988/3352845967.py\u001b[0m in \u001b[0;36m<module>\u001b[0;34m\u001b[0m\n\u001b[1;32m    180\u001b[0m     \u001b[0max\u001b[0m\u001b[0;34m.\u001b[0m\u001b[0mclear\u001b[0m\u001b[0;34m(\u001b[0m\u001b[0;34m)\u001b[0m\u001b[0;34m\u001b[0m\u001b[0;34m\u001b[0m\u001b[0m\n\u001b[1;32m    181\u001b[0m \u001b[0;34m\u001b[0m\u001b[0m\n\u001b[0;32m--> 182\u001b[0;31m     \u001b[0mframe\u001b[0m \u001b[0;34m=\u001b[0m \u001b[0mget_frames_from_idxs\u001b[0m\u001b[0;34m(\u001b[0m\u001b[0mcap\u001b[0m\u001b[0;34m,\u001b[0m \u001b[0;34m[\u001b[0m\u001b[0mn\u001b[0m\u001b[0;34m]\u001b[0m\u001b[0;34m)\u001b[0m\u001b[0;34m\u001b[0m\u001b[0;34m\u001b[0m\u001b[0m\n\u001b[0m\u001b[1;32m    183\u001b[0m     \u001b[0;31m# plot original frame\u001b[0m\u001b[0;34m\u001b[0m\u001b[0;34m\u001b[0m\u001b[0;34m\u001b[0m\u001b[0m\n\u001b[1;32m    184\u001b[0m     \u001b[0max\u001b[0m\u001b[0;34m.\u001b[0m\u001b[0mimshow\u001b[0m\u001b[0;34m(\u001b[0m\u001b[0mframe\u001b[0m\u001b[0;34m[\u001b[0m\u001b[0;36m0\u001b[0m\u001b[0;34m,\u001b[0m \u001b[0;36m0\u001b[0m\u001b[0;34m]\u001b[0m\u001b[0;34m,\u001b[0m \u001b[0mvmin\u001b[0m\u001b[0;34m=\u001b[0m\u001b[0;36m0\u001b[0m\u001b[0;34m,\u001b[0m \u001b[0mvmax\u001b[0m\u001b[0;34m=\u001b[0m\u001b[0;36m255\u001b[0m\u001b[0;34m,\u001b[0m \u001b[0mcmap\u001b[0m\u001b[0;34m=\u001b[0m\u001b[0;34m'gray'\u001b[0m\u001b[0;34m)\u001b[0m\u001b[0;34m\u001b[0m\u001b[0;34m\u001b[0m\u001b[0m\n",
      "\u001b[0;31mNameError\u001b[0m: name 'get_frames_from_idxs' is not defined"
     ]
    },
    {
     "data": {
      "image/png": "[encoded data removed]",
      "text/plain": [
       "<Figure size 720x720 with 1 Axes>"
      ]
     },
     "metadata": {
      "needs_background": "light"
     },
     "output_type": "display_data"
    }
   ],
   "source": [
    "#(n_frames, n_animals, n_markers, 2)\n",
    "base_path_markers = '/Users/clairehe/Downloads/wu-mouse/'\n",
    "\n",
    "keys_all = ['0_x', '0_y', '1_x', '1_y', '2_x', '2_y']\n",
    "key_pairs_all = [['0_x', '0_y'], ['1_x', '1_y'], ['2_x', '2_y']]\n",
    "\n",
    "\n",
    "#choose animal\n",
    "animal_id = 0\n",
    "markers_list = []\n",
    "for i in range(5):\n",
    "    marker_path = os.path.join(base_path_markers, f'predictions_{i}.npy')\n",
    "    markers_animal_orig = np.load(marker_path)[:,animal_id]\n",
    "    markers_animal_orig = markers_animal_orig.reshape(markers_animal_orig.shape[0], -1) \n",
    "    markers_animal = markers_animal_orig.copy() \n",
    "    for i in range(markers_animal.shape[1]):\n",
    "        nan_indices = np.isnan(markers_animal[:,i])\n",
    "        indices = np.arange(len(markers_animal[:,i]))\n",
    "        # Interpolate over NaN values\n",
    "        markers_animal[:,i][nan_indices] = np.interp(indices[nan_indices], indices[~nan_indices], markers_animal[:,i][~nan_indices])\n",
    "    df_markers_animal = pd.DataFrame(markers_animal, columns=keys_all)\n",
    "    markers_list.append(df_markers_animal)\n",
    "\n",
    "    from collections import defaultdict\n",
    "\n",
    "y_m_smooth_dict = {}\n",
    "marker_dict_list = []\n",
    "ensemble_dict = {}\n",
    "for key_pair in key_pairs_all:\n",
    "    keys = key_pair\n",
    "\n",
    "    ensemble_stacks = []\n",
    "    ensemble_vars = []\n",
    "    ensemble_preds = []\n",
    "    keypoints_mean_dict = {}\n",
    "    keypoints_var_dict = {}\n",
    "    keypoints_stack_dict = defaultdict(dict)\n",
    "    for key in keys:\n",
    "        stack = np.zeros((len(markers_list), markers_list[0].shape[0]))\n",
    "        for k in range(len(markers_list)):\n",
    "            stack[k] = markers_list[k][key]\n",
    "        stack = stack.T\n",
    "        median = np.median(stack, 1)\n",
    "        var = np.var(stack, 1) / len(markers_list)\n",
    "        ensemble_preds.append(median)\n",
    "        ensemble_vars.append(var)\n",
    "        ensemble_stacks.append(stack)\n",
    "        keypoints_mean_dict[key] = median\n",
    "        keypoints_var_dict[key] = var\n",
    "        for i, keypoints in enumerate(stack.T):\n",
    "            keypoints_stack_dict[i][key] = stack.T[i]\n",
    "    ensemble_preds = np.asarray(ensemble_preds).T\n",
    "    ensemble_vars = np.asarray(ensemble_vars).T\n",
    "    ensemble_stacks = np.asarray(ensemble_stacks).T\n",
    "\n",
    "    #compute center of mass\n",
    "    x_key = keys[0]\n",
    "    y_key = keys[1]\n",
    "\n",
    "    mean_x_obs = np.mean(keypoints_mean_dict[x_key])\n",
    "    mean_y_obs = np.mean(keypoints_mean_dict[y_key])\n",
    "    x_t_obs, y_t_obs = keypoints_mean_dict[x_key] - mean_x_obs, keypoints_mean_dict[y_key] - mean_y_obs #make the mean zero\n",
    "\n",
    "    #latent variables (observed)\n",
    "    z_t_obs = np.vstack((x_t_obs, y_t_obs)) #latent variables - true x and y\n",
    "\n",
    "    ##### Set values for kalman filter #####\n",
    "    m0 = np.asarray([0.0, 0.0]) # initial state: mean\n",
    "    S0 =  np.asarray([[np.var(x_t_obs), 0.0], [0.0 , np.var(y_t_obs)]]) # diagonal: var\n",
    "\n",
    "    smoothing_value = 20\n",
    "    A = np.asarray([[1.0, 0], [0, 1.0]]) #state-transition matrix,\n",
    "    Q = np.asarray([[smoothing_value, 0], [0, smoothing_value]]) #state covariance matrix -> smaller = more smoothing\n",
    "\n",
    "    #['pupil_top_r_x', 'pupil_top_r_y', 'pupil_bottom_r_x', 'pupil_bottom_r_y', 'pupil_right_r_x', 'pupil_right_r_y', 'pupil_left_r_x', 'pupil_left_r_y'] \n",
    "    C = np.asarray([[1, 0], [0, 1]]) # Measurement function\n",
    "    R = np.eye(2) # placeholder diagonal matrix for ensemble variance\n",
    "\n",
    "    #left paw only\n",
    "    scaled_ensemble_preds = ensemble_preds.copy()\n",
    "    scaled_ensemble_stacks = ensemble_stacks.copy()\n",
    "\n",
    "    #subtract means from the ensemble predictions\n",
    "    for i in range(len(keys)):\n",
    "        if i % 2 == 0:\n",
    "            scaled_ensemble_preds[:, i] -= mean_x_obs\n",
    "        else:\n",
    "            scaled_ensemble_preds[:, i] -= mean_y_obs\n",
    "\n",
    "    #subtract COM means from all the predictions\n",
    "    for i in range(len(keys)):\n",
    "        if i % 2 == 0:\n",
    "            scaled_ensemble_stacks[:,:,i] -= mean_x_obs\n",
    "        else:\n",
    "            scaled_ensemble_stacks[:,:,i] -= mean_y_obs\n",
    "\n",
    "    y = scaled_ensemble_preds\n",
    "\n",
    "    #do filtering pass with time-varying ensemble variances\n",
    "    mf, Vf, S = filtering_pass(y, m0, S0, C, R, A, Q, ensemble_vars)\n",
    "    y_m_filt = np.dot(C, mf.T).T\n",
    "    y_v_filt = np.swapaxes(np.dot(C, np.dot(Vf, C.T)), 0, 1)\n",
    "\n",
    "    # Do the smoothing step\n",
    "    ms, Vs, _ = smooth_backward(y, mf, Vf, S, A, Q, C)\n",
    "\n",
    "    # Smoothed posterior over y\n",
    "    y_m_smooth = np.dot(C, ms.T).T\n",
    "    y_v_smooth = np.swapaxes(np.dot(C, np.dot(Vs, C.T)), 0, 1)\n",
    "\n",
    "    #get a dict of keypoints for smoothed values\n",
    "    for i, key in enumerate(keys):\n",
    "        if 'x' in key:\n",
    "            y_m_smooth_dict[key] = y_m_smooth.T[i] + mean_x_obs\n",
    "        if 'y' in key:\n",
    "            y_m_smooth_dict[key] = y_m_smooth.T[i] + mean_y_obs\n",
    "        y_m_smooth_dict[key+'_var'] = y_v_smooth[:,i,i]\n",
    "\n",
    "    #get a dict of keypoints for a single model\n",
    "    for model_id in range(5):\n",
    "        marker_dict = {}\n",
    "        for i, key in enumerate(keys):\n",
    "            marker_dict[key] = ensemble_stacks[model_id].T[i]\n",
    "        marker_dict_list.append(marker_dict)\n",
    "\n",
    "    #get a dict of keypoints for a ensemble model\n",
    "    model_id = 0\n",
    "    for i, key in enumerate(keys):\n",
    "        ensemble_dict[key] = ensemble_preds.T[i]\n",
    "\n",
    "base_path = '/Users/clairehe/Downloads/'\n",
    "video_name = 'raw_vid'\n",
    "print(os.path.join(base_path, f'wu-mouse/%s.mp4' % video_name))\n",
    "cap = cv2.VideoCapture(os.path.join(base_path, f'wu-mouse/%s.mp4' % video_name))\n",
    "n_frames = 1\n",
    "start_frame = 0\n",
    "frame_idxs = None\n",
    "\n",
    "save_file = os.path.join(base_path, f'wu-mouse/s_{smoothing_value}', f'%s_{marker_id}_kalman_smoothed_{Q[1,1]}.mp4' % video_name)\n",
    "\n",
    "tmp_dir = os.path.join(os.path.dirname(save_file), 'tmpZzZ')\n",
    "if not os.path.exists(tmp_dir):\n",
    "    os.makedirs(tmp_dir)\n",
    "\n",
    "frame_idxs = start_frame + np.arange(n_frames)\n",
    "framerate = 20\n",
    "\n",
    "def plot_video_markers(markers_dict, ax, frame_idx, n_frames, marker_shapes, colors, alphas, model_id=0):\n",
    "    to_plot_dict = markers_dict\n",
    "    for j, key_pair in enumerate(key_pairs_all):\n",
    "        if key_pair[0] in to_plot_dict:\n",
    "            ax.plot(to_plot_dict[key_pair[0]][frame_idx], to_plot_dict[key_pair[1]][frame_idx], marker_shapes[j], markeredgecolor='w', markersize=4, alpha=alphas[model_id], \n",
    "                    color=colors[model_id])\n",
    "        if key_pair[0]+'_var' in to_plot_dict:\n",
    "            ax.errorbar(x=to_plot_dict[key_pair[0]][frame_idx],\n",
    "                        y=to_plot_dict[key_pair[1]][frame_idx],\n",
    "                        xerr=to_plot_dict[key_pair[0]+'_var'][frame_idx],\n",
    "                        yerr=to_plot_dict[key_pair[1]+'_var'][frame_idx],\n",
    "                        color=colors[model_id],\n",
    "                        alpha=alphas[model_id],\n",
    "                        capsize=4)\n",
    "\n",
    "marker_shapes = ['o', '^', 'D', 's']\n",
    "model_colors = ['red', 'green']\n",
    "colors = ['red']*len(marker_dict_list) + ['green']\n",
    "single_alpha = .5\n",
    "single_alpha_list = [single_alpha]*len(marker_dict_list)\n",
    "alphas = single_alpha_list + [1.0]\n",
    "model_labels = ['ensemble', f'kalman, E:{Q[1,1]}']\n",
    "fr = 60\n",
    "fig, ax = plt.subplots(1,1,figsize=(10, 10))\n",
    "txt_fr_kwargs = {\n",
    "    'fontsize': 14, 'color': [1, 1, 1], 'horizontalalignment': 'left',\n",
    "    'verticalalignment': 'top', 'fontname': 'monospace',\n",
    "    'bbox': dict(facecolor='k', alpha=0.25, edgecolor='none'),\n",
    "    'transform': ax.transAxes\n",
    "}\n",
    "for idx, n in tqdm(enumerate(frame_idxs)):\n",
    "    # important!! otherwise each frame will plot on top of the last\n",
    "    ax.clear()\n",
    "\n",
    "    frame = get_frames_from_idxs(cap, [n])\n",
    "    # plot original frame\n",
    "    ax.imshow(frame[0, 0], vmin=0, vmax=255, cmap='gray')\n",
    "    ax.set_xticks([])\n",
    "    ax.set_yticks([])\n",
    "\n",
    "    patches = []\n",
    "    for model_id, markers_dict in enumerate(marker_dict_list + [y_m_smooth_dict]):\n",
    "        plot_video_markers(markers_dict, ax, idx, n_frames, marker_shapes, colors, alphas, model_id=model_id)\n",
    "    for i, model_label in enumerate(model_labels):\n",
    "        patches.append(mpatches.Patch(color=model_colors[i], label=model_label))\n",
    "    ax.legend(handles=patches)\n",
    "    im = ax.text(0.02, 0.98, 'frame %i' % n, **txt_fr_kwargs)\n",
    "    plt.savefig(os.path.join(tmp_dir, 'frame_%06i.jpeg' % idx))\n",
    "save_video(save_file, tmp_dir, framerate, frame_pattern='frame_%06i.jpeg')"
   ]
  },
  {
   "cell_type": "code",
   "execution_count": null,
   "metadata": {
    "tags": []
   },
   "outputs": [],
   "source": [
    "np.max(ensemble_vars)"
   ]
  },
  {
   "cell_type": "code",
   "execution_count": 47,
   "metadata": {
    "tags": []
   },
   "outputs": [
    {
     "data": {
      "text/plain": [
       "5"
      ]
     },
     "execution_count": 47,
     "metadata": {},
     "output_type": "execute_result"
    }
   ],
   "source": [
    "np.argmax(ensemble_vars[:,0])"
   ]
  },
  {
   "cell_type": "code",
   "execution_count": 48,
   "metadata": {
    "tags": []
   },
   "outputs": [
    {
     "data": {
      "text/plain": [
       "array([154.15656757,  95.83535661])"
      ]
     },
     "execution_count": 48,
     "metadata": {},
     "output_type": "execute_result"
    }
   ],
   "source": [
    "ensemble_vars[5]"
   ]
  },
  {
   "cell_type": "code",
   "execution_count": 26,
   "metadata": {
    "tags": []
   },
   "outputs": [
    {
     "ename": "NameError",
     "evalue": "name 'to_plot_dict' is not defined",
     "output_type": "error",
     "traceback": [
      "\u001b[0;31m---------------------------------------------------------------------------\u001b[0m",
      "\u001b[0;31mNameError\u001b[0m                                 Traceback (most recent call last)",
      "Cell \u001b[0;32mIn[26], line 1\u001b[0m\n\u001b[0;32m----> 1\u001b[0m \u001b[43mto_plot_dict\u001b[49m\n",
      "\u001b[0;31mNameError\u001b[0m: name 'to_plot_dict' is not defined"
     ]
    }
   ],
   "source": [
    "to_plot_dict"
   ]
  },
  {
   "cell_type": "code",
   "execution_count": 19,
   "metadata": {
    "tags": []
   },
   "outputs": [
    {
     "data": {
      "text/plain": [
       "0"
      ]
     },
     "execution_count": 19,
     "metadata": {},
     "output_type": "execute_result"
    }
   ],
   "source": [
    "marker_id"
   ]
  },
  {
   "cell_type": "code",
   "execution_count": 18,
   "metadata": {
    "tags": []
   },
   "outputs": [
    {
     "data": {
      "text/plain": [
       "array([[4., 0., 0., 0., 0., 0., 0., 0., 0., 0.],\n",
       "       [0., 4., 0., 0., 0., 0., 0., 0., 0., 0.],\n",
       "       [0., 0., 4., 0., 0., 0., 0., 0., 0., 0.],\n",
       "       [0., 0., 0., 4., 0., 0., 0., 0., 0., 0.],\n",
       "       [0., 0., 0., 0., 4., 0., 0., 0., 0., 0.],\n",
       "       [0., 0., 0., 0., 0., 4., 0., 0., 0., 0.],\n",
       "       [0., 0., 0., 0., 0., 0., 4., 0., 0., 0.],\n",
       "       [0., 0., 0., 0., 0., 0., 0., 4., 0., 0.],\n",
       "       [0., 0., 0., 0., 0., 0., 0., 0., 4., 0.],\n",
       "       [0., 0., 0., 0., 0., 0., 0., 0., 0., 4.]])"
      ]
     },
     "execution_count": 18,
     "metadata": {},
     "output_type": "execute_result"
    }
   ],
   "source": [
    "np.eye(10)*4"
   ]
  },
  {
   "cell_type": "code",
   "execution_count": null,
   "metadata": {
    "tags": []
   },
   "outputs": [],
   "source": [
    "frame_idxs"
   ]
  },
  {
   "cell_type": "code",
   "execution_count": 7,
   "metadata": {
    "tags": []
   },
   "outputs": [
    {
     "data": {
      "text/plain": [
       "72"
      ]
     },
     "execution_count": 7,
     "metadata": {},
     "output_type": "execute_result"
    }
   ],
   "source": [
    "n"
   ]
  },
  {
   "cell_type": "code",
   "execution_count": null,
   "metadata": {},
   "outputs": [],
   "source": [
    "n_frames"
   ]
  },
  {
   "cell_type": "code",
   "execution_count": null,
   "metadata": {},
   "outputs": [],
   "source": []
  },
  {
   "cell_type": "code",
   "execution_count": 44,
   "metadata": {
    "tags": []
   },
   "outputs": [],
   "source": [
    "# num_points = 2000\n",
    "# fig, axes = plt.subplots(len(keys),1, figsize=(20,10*len(keys)))\n",
    "# # obs_colors  = ['red', 'blue']\n",
    "# # colors = ['black', 'green']\n",
    "# for keypoint_id in range(len(keys)):\n",
    "#     ax = axes[keypoint_id]\n",
    "#     for k in range(len(markers_list)):\n",
    "#         ax.scatter(np.arange(1, num_points + 1),\n",
    "#                     ensemble_stacks[k][:,keypoint_id][:num_points],\n",
    "#                     marker='x',\n",
    "#                     color='red',\n",
    "#                     zorder=3,\n",
    "#                     alpha=.5)\n",
    "#     ax.plot(np.arange(1, num_points + 1),\n",
    "#                  ensemble_preds[:, keypoint_id][:num_points],\n",
    "#             label='ensemble median')\n",
    "#     ax.set_title(keys[keypoint_id], fontsize=16)\n",
    "#     ax.set_xlabel(r'$t$', fontsize=16)\n",
    "#     ax.legend()\n",
    "# plt.show()"
   ]
  },
  {
   "cell_type": "markdown",
   "metadata": {},
   "source": [
    "# Kalman Filtering + Smoothing"
   ]
  },
  {
   "cell_type": "markdown",
   "metadata": {},
   "source": [
    "$z_t = (x_t, y_t)$ - right or left paw\n",
    "\n",
    "$z_t = A z_{t-1} + e_t, e_t ~ N(0,E)$\n",
    "\n",
    "$O_t = B z_t + n_t, n_t ~ N(0,D_t)$"
   ]
  },
  {
   "cell_type": "markdown",
   "metadata": {},
   "source": [
    "## Set parameters"
   ]
  },
  {
   "cell_type": "code",
   "execution_count": 29,
   "metadata": {},
   "outputs": [],
   "source": [
    "#compute center of mass\n",
    "marker_id = 0\n",
    "x_key = keys[marker_id*2]\n",
    "y_key = keys[marker_id*2+1]\n",
    "\n",
    "mean_x_obs = np.mean(keypoints_mean_dict[x_key])\n",
    "mean_y_obs = np.mean(keypoints_mean_dict[y_key])\n",
    "x_t_obs, y_t_obs = keypoints_mean_dict[x_key] - mean_x_obs, keypoints_mean_dict[y_key] - mean_y_obs #make the mean zero\n",
    "\n",
    "#latent variables (observed)\n",
    "z_t_obs = np.vstack((x_t_obs, y_t_obs)) #latent variables - true x and y\n",
    "\n",
    "##### Set values for kalman filter #####\n",
    "m0 = np.asarray([0.0, 0.0]) # initial state: mean\n",
    "S0 =  np.asarray([[np.var(x_t_obs), 0.0], [0.0 , np.var(y_t_obs)]]) # diagonal: var\n",
    "\n",
    "smoothing_value = .01\n",
    "A = np.asarray([[1.0, 0], [0, 1.0]]) #state-transition matrix,\n",
    "Q = np.asarray([[smoothing_value, 0], [0, smoothing_value]]) #state covariance matrix -> smaller = more smoothing\n",
    "\n",
    "#['pupil_top_r_x', 'pupil_top_r_y', 'pupil_bottom_r_x', 'pupil_bottom_r_y', 'pupil_right_r_x', 'pupil_right_r_y', 'pupil_left_r_x', 'pupil_left_r_y'] \n",
    "C = np.asarray([[1, 0], [0, 1]]) # Measurement function\n",
    "R = np.eye(2) # placeholder diagonal matrix for ensemble variance\n",
    "\n",
    "#left paw only\n",
    "scaled_ensemble_preds = ensemble_preds.copy()\n",
    "scaled_ensemble_stacks = ensemble_stacks.copy()\n",
    "\n",
    "#subtract means from the ensemble predictions\n",
    "for i in range(len(keys)):\n",
    "    if i % 2 == 0:\n",
    "        scaled_ensemble_preds[:, i] -= mean_x_obs\n",
    "    else:\n",
    "        scaled_ensemble_preds[:, i] -= mean_y_obs\n",
    "\n",
    "#subtract COM means from all the predictions\n",
    "for i in range(len(keys)):\n",
    "    if i % 2 == 0:\n",
    "        scaled_ensemble_stacks[:,:,i] -= mean_x_obs\n",
    "    else:\n",
    "        scaled_ensemble_stacks[:,:,i] -= mean_y_obs\n",
    "\n",
    "y = scaled_ensemble_preds"
   ]
  },
  {
   "cell_type": "markdown",
   "metadata": {},
   "source": [
    "## Perform filtering"
   ]
  },
  {
   "cell_type": "code",
   "execution_count": 233,
   "metadata": {},
   "outputs": [],
   "source": [
    "# #do filtering pass with time-varying ensemble variances\n",
    "# mf, Vf, S = filtering_pass(y, m0, S0, C, R, A, Q, ensemble_vars)\n",
    "# y_m_filt = np.dot(C, mf.T).T\n",
    "# y_v_filt = np.swapaxes(np.dot(C, np.dot(Vf, C.T)), 0, 1)"
   ]
  },
  {
   "cell_type": "code",
   "execution_count": 45,
   "metadata": {
    "tags": []
   },
   "outputs": [],
   "source": [
    "# num_points = num_frames\n",
    "# start_frame = 0\n",
    "# fig, axes = plt.subplots(len(keys),1, figsize=(20,10*len(keys)))\n",
    "# obs_colors  = ['red']\n",
    "# colors = ['black']\n",
    "# for keypoint_id in range(len(keys)):\n",
    "#     ax = axes[keypoint_id]\n",
    "#     for k in range(len(markers_list)):\n",
    "#         if k == len(markers_list)-1:\n",
    "#             label = 'observed'\n",
    "#         else:\n",
    "#             label = None\n",
    "#         obs = markers_list[k][keys[keypoint_id]].to_numpy().copy()\n",
    "#         ax.scatter(np.arange(start_frame, start_frame+num_points),\n",
    "#                     obs[start_frame:start_frame+num_points],\n",
    "#                     marker='x',\n",
    "#                     color='red',\n",
    "#                     label=label,\n",
    "#                     zorder=3,\n",
    "#                     alpha=.1)\n",
    "#     plot_filtered = y_m_filt[:, keypoint_id].copy()\n",
    "#     if keypoint_id % 2 == 0:\n",
    "#         plot_filtered += mean_x_obs\n",
    "#     else:\n",
    "#         plot_filtered += mean_y_obs\n",
    "#     ax.errorbar(x=np.arange(start_frame, start_frame+num_points),\n",
    "#                  y=plot_filtered[start_frame:start_frame+num_points],\n",
    "#                  yerr=y_v_filt[:, keypoint_id, keypoint_id][start_frame:start_frame+num_points] ** 0.5,\n",
    "#                  color='black',\n",
    "#                  zorder=2,\n",
    "#                  fmt=\"none\",\n",
    "#                  label=keys[keypoint_id] + r\"$, m_t^t \\pm \\sqrt{V_t^t}$\",\n",
    "#                  capsize=4)\n",
    "#     ax.plot(np.arange(start_frame, start_frame+num_points),\n",
    "#                  plot_filtered[start_frame:start_frame+num_points],\n",
    "#                  color='black')\n",
    "    \n",
    "#     ax.scatter(np.arange(start_frame, start_frame+num_points),\n",
    "#                     ensemble_preds[start_frame:start_frame+num_points:,keypoint_id],\n",
    "#                     marker='x',\n",
    "#                     color='blue',\n",
    "#                     label='ensemble median',\n",
    "#                     zorder=3,\n",
    "#                     alpha=.1)\n",
    "#     ax.set_title(f'E: {Q}', fontsize=16)\n",
    "#     ax.set_xlabel(r'$t$', fontsize=16)\n",
    "#     ax.set_ylabel(\"pixels\", fontsize=16)\n",
    "#     ax.legend()\n",
    "# plt.show()"
   ]
  },
  {
   "cell_type": "markdown",
   "metadata": {},
   "source": [
    "## Perform smoothing"
   ]
  },
  {
   "cell_type": "code",
   "execution_count": 235,
   "metadata": {},
   "outputs": [],
   "source": [
    "# Do the smoothing step\n",
    "ms, Vs, _ = smooth_backward(y, mf, Vf, S, A, Q, C)\n",
    "\n",
    "# Smoothed posterior over y\n",
    "y_m_smooth = np.dot(C, ms.T).T\n",
    "y_v_smooth = np.swapaxes(np.dot(C, np.dot(Vs, C.T)), 0, 1)"
   ]
  },
  {
   "cell_type": "code",
   "execution_count": 46,
   "metadata": {
    "tags": []
   },
   "outputs": [],
   "source": [
    "# num_points = num_frames\n",
    "# start_frame = 0\n",
    "# fig, axes = plt.subplots(len(keys),1, figsize=(20,10*len(keys)))\n",
    "# obs_colors  = ['red']\n",
    "# colors = ['black']\n",
    "# for keypoint_id in range(len(keys)):\n",
    "#     ax = axes[keypoint_id]\n",
    "#     for k in range(len(markers_list)):\n",
    "#         if k == len(markers_list)-1:\n",
    "#             label = 'observed'\n",
    "#         else:\n",
    "#             label = None\n",
    "#         obs = markers_list[k][keys[keypoint_id]].to_numpy().copy()\n",
    "#         ax.scatter(np.arange(start_frame, start_frame+num_points),\n",
    "#                     obs[start_frame:start_frame+num_points],\n",
    "#                     marker='x',\n",
    "#                     color='red',\n",
    "#                     label=label,\n",
    "#                     zorder=3,\n",
    "#                     alpha=.1)\n",
    "#     plot_smoothed = y_m_smooth[:, keypoint_id].copy()\n",
    "#     if keypoint_id % 2 == 0:\n",
    "#         plot_smoothed += mean_x_obs\n",
    "#     else:\n",
    "#         plot_smoothed += mean_y_obs\n",
    "#     ax.errorbar(x=np.arange(start_frame, start_frame+num_points),\n",
    "#                  y=plot_smoothed[start_frame:start_frame+num_points],\n",
    "#                  yerr=y_v_smooth[:, keypoint_id, keypoint_id][start_frame:start_frame+num_points] ** 0.5,\n",
    "#                  color='black',\n",
    "#                  zorder=2,\n",
    "#                  fmt=\"none\",\n",
    "#                  label=keys[keypoint_id] + r\"$, m_t^t \\pm \\sqrt{V_t^t}$\",\n",
    "#                  capsize=4)\n",
    "#     ax.plot(np.arange(start_frame, start_frame+num_points),\n",
    "#                  plot_smoothed[start_frame:start_frame+num_points],\n",
    "#                  color='black')\n",
    "    \n",
    "#     ax.scatter(np.arange(start_frame, start_frame+num_points),\n",
    "#                     ensemble_preds[start_frame:start_frame+num_points:,keypoint_id],\n",
    "#                     marker='x',\n",
    "#                     color='blue',\n",
    "#                     label='ensemble median',\n",
    "#                     zorder=3,\n",
    "#                     alpha=.5)\n",
    "#     ax.set_title(f'E: {Q}', fontsize=16)\n",
    "#     ax.set_xlabel(r'$t$', fontsize=16)\n",
    "#     ax.set_ylabel(\"pixels\", fontsize=16)\n",
    "#     ax.legend()\n",
    "\n",
    "#         # ax.show()\n",
    "# plt.savefig(f'/media/cat/cole/wu-mouse/marker{marker_id}_kalman_smoothed_traces_{Q[1,1]}.png')\n",
    "# plt.show()"
   ]
  },
  {
   "cell_type": "markdown",
   "metadata": {},
   "source": [
    "## Make videos"
   ]
  },
  {
   "cell_type": "code",
   "execution_count": 14,
   "metadata": {},
   "outputs": [
    {
     "ename": "NameError",
     "evalue": "name 'model_id' is not defined",
     "output_type": "error",
     "traceback": [
      "\u001b[0;31m---------------------------------------------------------------------------\u001b[0m",
      "\u001b[0;31mNameError\u001b[0m                                 Traceback (most recent call last)",
      "\u001b[0;32m/var/folders/r4/_v5hj9j14b53twvkrltmh9vh0000gn/T/ipykernel_28988/2456339824.py\u001b[0m in \u001b[0;36m<module>\u001b[0;34m\u001b[0m\n\u001b[0;32m----> 1\u001b[0;31m \u001b[0mmodel_id\u001b[0m\u001b[0;34m\u001b[0m\u001b[0;34m\u001b[0m\u001b[0m\n\u001b[0m",
      "\u001b[0;31mNameError\u001b[0m: name 'model_id' is not defined"
     ]
    }
   ],
   "source": [
    "model_id"
   ]
  },
  {
   "cell_type": "code",
   "execution_count": 238,
   "metadata": {},
   "outputs": [],
   "source": [
    "#get a dict of keypoints for smoothed values\n",
    "y_m_smooth_dict = {}\n",
    "for i, key in enumerate(keys):\n",
    "    if 'x' in key:\n",
    "        y_m_smooth_dict[key] = y_m_smooth.T[i] + mean_x_obs\n",
    "    if 'y' in key:\n",
    "        y_m_smooth_dict[key] = y_m_smooth.T[i] + mean_y_obs\n",
    "    y_m_smooth_dict[key+'_var'] = y_v_smooth[:,i,i]\n",
    "    \n",
    "#get a dict of keypoints for a single model\n",
    "marker_dict_list = []\n",
    "for model_id in range(5):\n",
    "    marker_dict = {}\n",
    "    for i, key in enumerate(keys):\n",
    "        marker_dict[key] = ensemble_stacks[model_id].T[i]\n",
    "    marker_dict_list.append(marker_dict)\n",
    "    \n",
    "#get a dict of keypoints for a ensemble model\n",
    "model_id = 0\n",
    "ensemble_dict = {}\n",
    "for i, key in enumerate(keys):\n",
    "    ensemble_dict[key] = ensemble_preds.T[i]"
   ]
  },
  {
   "cell_type": "code",
   "execution_count": 239,
   "metadata": {},
   "outputs": [
    {
     "data": {
      "text/plain": [
       "{'0_x': array([1121.47176873, 1120.74631391, 1116.00666408, 1109.44721178,\n",
       "        1091.91412706, 1074.24409576, 1056.57481925, 1039.88013799,\n",
       "        1024.41387634, 1012.99842692, 1001.81809454,  991.40896002,\n",
       "         981.12815804,  971.07204745,  961.05608691,  950.89996909,\n",
       "         940.92357384,  931.08942983,  920.59025278,  909.28707931,\n",
       "         894.79215538,  878.90647336,  859.61163409,  838.6502338 ,\n",
       "         816.19446003,  792.55036162,  768.60945185,  744.79936882,\n",
       "         721.84421983,  699.88925627,  678.92078442,  662.00557542,\n",
       "         646.46691346,  632.48070513,  619.59433986,  607.59821907,\n",
       "         597.04986458,  586.922336  ,  575.97248498,  564.60343079,\n",
       "         552.57550433,  538.9018386 ,  524.37497353,  509.03669131,\n",
       "         485.29136199,  456.65395701,  427.97072633,  392.54507679,\n",
       "         357.7719982 ,  323.79684794,  290.17929122,  257.62826496,\n",
       "         242.36447798,  227.70330478,  213.73412235,  201.24601451,\n",
       "         189.94615942,  179.86078849,  170.98299455,  164.43208534,\n",
       "         157.96511643,  151.62220196,  145.641746  ,  139.79419288,\n",
       "         134.00204716,  128.24295003,  122.6460276 ,  117.25935269,\n",
       "         115.4429414 ,  114.8629256 ,  114.66015729]),\n",
       " '0_x_var': array([0.03015665, 0.02094368, 0.01476727, 0.00829151, 0.01272206,\n",
       "        0.01537795, 0.0148202 , 0.01297387, 0.01023639, 0.01409319,\n",
       "        0.01561838, 0.01679728, 0.0157907 , 0.01341844, 0.00914867,\n",
       "        0.00264175, 0.00818537, 0.01148069, 0.01280251, 0.01175035,\n",
       "        0.01264315, 0.01222876, 0.01412191, 0.01533106, 0.01624387,\n",
       "        0.01747615, 0.0176249 , 0.01615219, 0.01486622, 0.01234932,\n",
       "        0.00837992, 0.01103709, 0.01338765, 0.01594672, 0.01711903,\n",
       "        0.01659662, 0.01629762, 0.01600863, 0.01716727, 0.01680257,\n",
       "        0.01507191, 0.01294309, 0.00891139, 0.00284991, 0.00378826,\n",
       "        0.00607144, 0.0006575 , 0.00766901, 0.01112214, 0.01196   ,\n",
       "        0.00988823, 0.00496211, 0.01149904, 0.01618295, 0.01943941,\n",
       "        0.02221799, 0.0243204 , 0.02601883, 0.02729982, 0.02998583,\n",
       "        0.03120132, 0.03102747, 0.0300078 , 0.02769166, 0.0239137 ,\n",
       "        0.01868304, 0.01244084, 0.00473816, 0.00381449, 0.00527461,\n",
       "        0.01461926]),\n",
       " '0_y': array([ 76.48390323,  77.31195687,  78.5944686 ,  81.45183901,\n",
       "         95.52821701, 111.75545445, 127.98410753, 144.68181115,\n",
       "        164.18738627, 183.52426572, 198.53252607, 213.34451288,\n",
       "        228.18638015, 243.87826806, 261.55754595, 279.77157652,\n",
       "        298.9035594 , 318.99344083, 340.67660043, 363.58316609,\n",
       "        386.99390614, 410.73356853, 434.56473607, 458.49231639,\n",
       "        482.30354748, 506.23005893, 530.35414839, 553.12167874,\n",
       "        575.67874118, 597.93925244, 619.34986809, 640.07015248,\n",
       "        660.0985134 , 679.4916654 , 698.40390925, 717.35466758,\n",
       "        736.32032329, 738.7075079 , 739.60755632, 739.26269508,\n",
       "        736.88493842, 730.34574037, 720.60985028, 710.12615054,\n",
       "        699.54257382, 689.53404484, 681.20585435, 673.5739004 ,\n",
       "        669.08273887, 666.43122519, 665.43808886, 666.36939471,\n",
       "        668.63846371, 672.291721  , 675.90306808, 678.73052703,\n",
       "        681.14133483, 681.19533055, 680.25602225, 678.90428959,\n",
       "        677.55527298, 676.21709376, 674.94401512, 673.70845153,\n",
       "        672.58259278, 671.47659962, 670.59952374, 669.88170517,\n",
       "        669.30512561, 669.20692856, 669.17232058]),\n",
       " '0_y_var': array([0.02996696, 0.02209806, 0.01458694, 0.00834291, 0.01096052,\n",
       "        0.01175925, 0.00837928, 0.00140515, 0.00628244, 0.00441366,\n",
       "        0.01052645, 0.01483464, 0.0170823 , 0.01865025, 0.02054454,\n",
       "        0.02073889, 0.01975   , 0.01770078, 0.01578241, 0.01481501,\n",
       "        0.01527633, 0.01496557, 0.01285944, 0.00853529, 0.00113048,\n",
       "        0.00167628, 0.00081139, 0.00864902, 0.01363887, 0.01645992,\n",
       "        0.01830406, 0.01866306, 0.01759969, 0.01502051, 0.01206472,\n",
       "        0.00839069, 0.00103875, 0.0080331 , 0.01207122, 0.01361812,\n",
       "        0.01332006, 0.01205504, 0.00901489, 0.00237994, 0.00820691,\n",
       "        0.01019532, 0.01077235, 0.00843904, 0.01158699, 0.01441367,\n",
       "        0.01567584, 0.01600561, 0.01536031, 0.01570246, 0.01519749,\n",
       "        0.01716734, 0.01755004, 0.02095556, 0.02507259, 0.02871539,\n",
       "        0.03077322, 0.03127825, 0.03044628, 0.02823355, 0.02485982,\n",
       "        0.01988044, 0.01660693, 0.01370555, 0.01026927, 0.01612899,\n",
       "        0.0226917 ])}"
      ]
     },
     "execution_count": 239,
     "metadata": {},
     "output_type": "execute_result"
    }
   ],
   "source": [
    "y_m_smooth_dict"
   ]
  },
  {
   "cell_type": "code",
   "execution_count": 240,
   "metadata": {},
   "outputs": [],
   "source": [
    "# save_paw = paw\n",
    "# if camera == 'right':\n",
    "#     if paw == 'left':\n",
    "#         save_paw = 'right'\n",
    "#         y_m_smooth_dict['paw_r_x'] = y_m_smooth_dict.pop('paw_l_x')\n",
    "#         y_m_smooth_dict['paw_r_y'] = y_m_smooth_dict.pop('paw_l_y')\n",
    "#         y_m_smooth_dict['paw_r_x_var'] = y_m_smooth_dict.pop('paw_l_x_var')\n",
    "#         y_m_smooth_dict['paw_r_y_var'] = y_m_smooth_dict.pop('paw_l_y_var')\n",
    "#     else:\n",
    "#         save_paw = 'left'\n",
    "#         y_m_smooth_dict['paw_l_x'] = y_m_smooth_dict.pop('paw_r_x')\n",
    "#         y_m_smooth_dict['paw_l_y'] = y_m_smooth_dict.pop('paw_r_y')\n",
    "#         y_m_smooth_dict['paw_l_x_var'] = y_m_smooth_dict.pop('paw_r_x_var')\n",
    "#         y_m_smooth_dict['paw_l_y_var'] = y_m_smooth_dict.pop('paw_r_y_var')\n",
    "# outfile = f'/media/cat/cole/{video_name}_{camera}_camera_{save_paw}_paw_smoothed_dict.npz'\n",
    "# print(outfile)\n",
    "# np.savez(outfile, **y_m_smooth_dict)\n",
    "\n",
    "# # npzfile = np.load(outfile)\n",
    "# # print('npzfile.files: {}'.format(npzfile.files))\n",
    "# # print('npzfile[\"paw_r_x\"]: {}'.format(npzfile[\"paw_r_x\"]))"
   ]
  },
  {
   "cell_type": "code",
   "execution_count": 241,
   "metadata": {},
   "outputs": [
    {
     "data": {
      "text/plain": [
       "'raw_vid'"
      ]
     },
     "execution_count": 241,
     "metadata": {},
     "output_type": "execute_result"
    }
   ],
   "source": [
    "video_name"
   ]
  },
  {
   "cell_type": "code",
   "execution_count": 13,
   "metadata": {
    "tags": []
   },
   "outputs": [
    {
     "ename": "ModuleNotFoundError",
     "evalue": "No module named 'diagnostics.video'",
     "output_type": "error",
     "traceback": [
      "\u001b[0;31m---------------------------------------------------------------------------\u001b[0m",
      "\u001b[0;31mModuleNotFoundError\u001b[0m                       Traceback (most recent call last)",
      "\u001b[0;32m/var/folders/r4/_v5hj9j14b53twvkrltmh9vh0000gn/T/ipykernel_28988/3598882718.py\u001b[0m in \u001b[0;36m<module>\u001b[0;34m\u001b[0m\n\u001b[1;32m      1\u001b[0m \u001b[0;32mimport\u001b[0m \u001b[0mcv2\u001b[0m\u001b[0;34m\u001b[0m\u001b[0;34m\u001b[0m\u001b[0m\n\u001b[1;32m      2\u001b[0m \u001b[0;32mfrom\u001b[0m \u001b[0mmatplotlib\u001b[0m\u001b[0;34m.\u001b[0m\u001b[0mgridspec\u001b[0m \u001b[0;32mimport\u001b[0m \u001b[0mGridSpec\u001b[0m\u001b[0;34m\u001b[0m\u001b[0;34m\u001b[0m\u001b[0m\n\u001b[0;32m----> 3\u001b[0;31m \u001b[0;32mfrom\u001b[0m \u001b[0mdiagnostics\u001b[0m\u001b[0;34m.\u001b[0m\u001b[0mvideo\u001b[0m \u001b[0;32mimport\u001b[0m \u001b[0mget_frames_from_idxs\u001b[0m\u001b[0;34m,\u001b[0m \u001b[0msave_video\u001b[0m\u001b[0;34m\u001b[0m\u001b[0;34m\u001b[0m\u001b[0m\n\u001b[0m\u001b[1;32m      4\u001b[0m \u001b[0;32mimport\u001b[0m \u001b[0mmatplotlib\u001b[0m\u001b[0;34m.\u001b[0m\u001b[0mpatches\u001b[0m \u001b[0;32mas\u001b[0m \u001b[0mmpatches\u001b[0m\u001b[0;34m\u001b[0m\u001b[0;34m\u001b[0m\u001b[0m\n\u001b[1;32m      5\u001b[0m \u001b[0;32mimport\u001b[0m \u001b[0mmatplotlib\u001b[0m\u001b[0;34m.\u001b[0m\u001b[0mpyplot\u001b[0m \u001b[0;32mas\u001b[0m \u001b[0mplt\u001b[0m\u001b[0;34m\u001b[0m\u001b[0;34m\u001b[0m\u001b[0m\n",
      "\u001b[0;31mModuleNotFoundError\u001b[0m: No module named 'diagnostics.video'"
     ]
    }
   ],
   "source": [
    "import cv2\n",
    "from matplotlib.gridspec import GridSpec\n",
    "from diagnostics.video import get_frames_from_idxs, save_video\n",
    "import matplotlib.patches as mpatches\n",
    "import matplotlib.pyplot as plt\n",
    "\n",
    "base_path = '/media/cat/cole/'\n",
    "video_name = 'raw_vid'\n",
    "print(os.path.join(base_path, f'wu-mouse/%s.mp4' % video_name))\n",
    "cap = cv2.VideoCapture(os.path.join(base_path, f'wu-mouse/%s.mp4' % video_name))\n",
    "n_frames = num_frames\n",
    "start_frame = 0\n",
    "frame_idxs = None\n",
    "\n",
    "save_file = os.path.join(base_path, 'wu-mouse', f'%s._{marker_id}_kalman_smoothed_{Q[1,1]}.mp4' % video_name)\n",
    "\n",
    "tmp_dir = os.path.join(os.path.dirname(save_file), 'tmpZzZ')\n",
    "if not os.path.exists(tmp_dir):\n",
    "    os.makedirs(tmp_dir)\n",
    "\n",
    "frame_idxs = start_frame + np.arange(n_frames)\n",
    "framerate = 20\n",
    "\n",
    "def plot_video_markers(markers_dict, ax, n_frames, marker_shapes, colors, alphas, model_id=0):\n",
    "    to_plot_dict = defaultdict(list)\n",
    "    for i, key in enumerate(markers_dict.keys()):\n",
    "        markers = markers_dict[key].copy()\n",
    "        if 'var' in key:\n",
    "            to_plot_dict['var'].append(markers)\n",
    "        else:\n",
    "            to_plot_dict['v'].append(markers)\n",
    "    for j, key in enumerate(to_plot_dict.keys()):\n",
    "        if 'var' not in key:\n",
    "            ax.plot(to_plot_dict[key][0][n], to_plot_dict[key][1][n], marker_shapes[j], markeredgecolor='w', markersize=4, alpha=alphas[model_id], \n",
    "                    color=colors[model_id])\n",
    "        else:\n",
    "            ax.errorbar(x=to_plot_dict[key[0]][0][n],\n",
    "                        y=to_plot_dict[key[0]][1][n],\n",
    "                        xerr=to_plot_dict[key][0][n],\n",
    "                        yerr=to_plot_dict[key][1][n],\n",
    "                        color=colors[model_id],\n",
    "                        alpha=alphas[model_id],\n",
    "                        capsize=4)\n",
    "\n",
    "marker_shapes = ['o', '^', 'D', 's']\n",
    "model_colors = ['red', 'green']\n",
    "colors = ['red']*len(marker_dict_list) + ['green']\n",
    "single_alpha = .5\n",
    "single_alpha_list = [single_alpha]*len(marker_dict_list)\n",
    "alphas = single_alpha_list + [1.0]\n",
    "model_labels = ['ensemble', f'kalman, E:{Q[1,1]}']\n",
    "fr = 60\n",
    "fig, ax = plt.subplots(1,1,figsize=(10, 10))\n",
    "txt_fr_kwargs = {\n",
    "    'fontsize': 14, 'color': [1, 1, 1], 'horizontalalignment': 'left',\n",
    "    'verticalalignment': 'top', 'fontname': 'monospace',\n",
    "    'bbox': dict(facecolor='k', alpha=0.25, edgecolor='none'),\n",
    "    'transform': ax.transAxes\n",
    "}\n",
    "for idx, n in tqdm(enumerate(frame_idxs)):\n",
    "    # important!! otherwise each frame will plot on top of the last\n",
    "    ax.clear()\n",
    "    \n",
    "    frame = get_frames_from_idxs(cap, [n])\n",
    "    # plot original frame\n",
    "    ax.imshow(frame[0, 0], vmin=0, vmax=255, cmap='gray')\n",
    "    ax.set_xticks([])\n",
    "    ax.set_yticks([])\n",
    "    \n",
    "    patches = []\n",
    "    for model_id, markers_dict in enumerate(marker_dict_list + [y_m_smooth_dict]):\n",
    "        plot_video_markers(markers_dict, ax, n_frames, marker_shapes, colors, alphas, model_id=model_id)\n",
    "    for i, model_label in enumerate(model_labels):\n",
    "        patches.append(mpatches.Patch(color=model_colors[i], label=model_label))\n",
    "    ax.legend(handles=patches)\n",
    "    im = ax.text(0.02, 0.98, 'frame %i' % n, **txt_fr_kwargs)\n",
    "    plt.savefig(os.path.join(tmp_dir, 'frame_%06i.jpeg' % idx))\n",
    "save_video(save_file, tmp_dir, framerate, frame_pattern='frame_%06i.jpeg')"
   ]
  },
  {
   "cell_type": "code",
   "execution_count": null,
   "metadata": {},
   "outputs": [],
   "source": []
  },
  {
   "cell_type": "code",
   "execution_count": null,
   "metadata": {},
   "outputs": [],
   "source": []
  },
  {
   "cell_type": "code",
   "execution_count": null,
   "metadata": {},
   "outputs": [],
   "source": []
  },
  {
   "cell_type": "code",
   "execution_count": null,
   "metadata": {},
   "outputs": [],
   "source": []
  },
  {
   "cell_type": "code",
   "execution_count": null,
   "metadata": {},
   "outputs": [],
   "source": []
  }
 ],
 "metadata": {
  "kernelspec": {
   "display_name": "Python 3 (ipykernel)",
   "language": "python",
   "name": "python3"
  },
  "language_info": {
   "codemirror_mode": {
    "name": "ipython",
    "version": 3
   },
   "file_extension": ".py",
   "mimetype": "text/x-python",
   "name": "python",
   "nbconvert_exporter": "python",
   "pygments_lexer": "ipython3",
   "version": "3.8.11"
  }
 },
 "nbformat": 4,
 "nbformat_minor": 4
}
